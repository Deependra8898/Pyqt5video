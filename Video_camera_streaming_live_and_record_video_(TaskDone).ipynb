{
  "nbformat": 4,
  "nbformat_minor": 0,
  "metadata": {
    "colab": {
      "provenance": [],
      "authorship_tag": "ABX9TyMPT62sxtYBTV6+c5n64vEh",
      "include_colab_link": true
    },
    "kernelspec": {
      "name": "python3",
      "display_name": "Python 3"
    },
    "language_info": {
      "name": "python"
    }
  },
  "cells": [
    {
      "cell_type": "markdown",
      "metadata": {
        "id": "view-in-github",
        "colab_type": "text"
      },
      "source": [
        "<a href=\"https://colab.research.google.com/github/Deependra8898/Pyqt5video/blob/main/Video_camera_streaming_live_and_record_video_(TaskDone).ipynb\" target=\"_parent\"><img src=\"https://colab.research.google.com/assets/colab-badge.svg\" alt=\"Open In Colab\"/></a>"
      ]
    },
    {
      "cell_type": "code",
      "execution_count": null,
      "metadata": {
        "id": "Sy7NalsvKPUf"
      },
      "outputs": [],
      "source": [
        "pip install opencv-python"
      ]
    },
    {
      "cell_type": "code",
      "source": [
        "import numpy as np\n",
        "import cv2\n",
        "\n",
        "# Initialize the VideoCapture object to capture video from the default camera (0)\n",
        "cap = cv2.VideoCapture(0)\n",
        "\n",
        "# Define the codec and create a VideoWriter object\n",
        "fourcc = cv2.VideoWriter_fourcc(*\"XVID\")\n",
        "out = cv2.VideoWriter('video.avi', fourcc, 20.0, (640, 480))\n",
        "\n",
        "while cap.isOpened():\n",
        "    ret, frame = cap.read()\n",
        "    if ret:\n",
        "        # Write the frame to the output video file\n",
        "        out.write(frame)\n",
        "\n",
        "        # Display the live video\n",
        "        cv2.imshow('Live Video', frame)\n",
        "\n",
        "        # Check for 'q' key press to exit the loop\n",
        "        if cv2.waitKey(1) & 0xFF == ord('q'):\n",
        "            break\n",
        "    else:\n",
        "        break\n",
        "\n",
        "# Release the VideoCapture and VideoWriter objects\n",
        "cap.release()\n",
        "out.release()\n",
        "\n",
        "# Destroy all OpenCV windows\n",
        "cv2.destroyAllWindows()"
      ],
      "metadata": {
        "id": "jyfKv5v_Kmf1"
      },
      "execution_count": 2,
      "outputs": []
    },
    {
      "cell_type": "markdown",
      "source": [
        "Second method we can also record video and store video using colab"
      ],
      "metadata": {
        "id": "CSfjzF8FK2Op"
      }
    },
    {
      "cell_type": "code",
      "source": [
        "from IPython.display import display, HTML\n",
        "from google.colab.output import eval_js\n",
        "from base64 import b64decode\n",
        "\n",
        "def start_video_recording(filename='video.mp4'):\n",
        "    js = \"\"\"\n",
        "    const sleep = (time) => new Promise((resolve) => setTimeout(resolve, time));\n",
        "    const videoElement = document.createElement('video');\n",
        "    const options = { mimeType: 'video/webm; codecs=vp9' };\n",
        "    const mediaRecorder = new MediaRecorder(window.stream, options);\n",
        "\n",
        "    const recordedChunks = [];\n",
        "\n",
        "    mediaRecorder.ondataavailable = (e) => {\n",
        "      if (e.data.size > 0) {\n",
        "        recordedChunks.push(e.data);\n",
        "      }\n",
        "    };\n",
        "\n",
        "    mediaRecorder.onstop = async (e) => {\n",
        "      const blob = new Blob(recordedChunks, { type: 'video/webm' });\n",
        "      const url = URL.createObjectURL(blob);\n",
        "      const a = document.createElement('a');\n",
        "      a.href = url;\n",
        "      a.download = '%s';\n",
        "      a.textContent = 'Download video';\n",
        "      a.style = 'display: block; margin-top: 10px;';\n",
        "      document.body.appendChild(a);\n",
        "      await sleep(2000);\n",
        "      a.click();\n",
        "      await sleep(2000);\n",
        "      a.remove();\n",
        "    };\n",
        "\n",
        "    mediaRecorder.start();\n",
        "\n",
        "    return new Promise(resolve => {\n",
        "      window.recordedChunks = recordedChunks;\n",
        "      window.mediaRecorder = mediaRecorder;\n",
        "      resolve('Recording started');\n",
        "    });\n",
        "    \"\"\" % filename\n",
        "\n",
        "    display(HTML(\"<script>\" + js + \"</script>\"))\n",
        "    print(\"Recording started...\")\n",
        "\n",
        "def stop_video_recording():\n",
        "    js = \"\"\"\n",
        "    window.mediaRecorder.stop();\n",
        "    \"\"\"\n",
        "    eval_js(js)\n",
        "    print(\"Recording stopped.\")\n",
        "\n",
        "# Start video recording\n",
        "start_video_recording('video.mp4')"
      ],
      "metadata": {
        "colab": {
          "base_uri": "https://localhost:8080/",
          "height": 34
        },
        "id": "LJ520F7PLAab",
        "outputId": "8acedcbe-1b43-4b27-cfd4-e4ec75c306c4"
      },
      "execution_count": 3,
      "outputs": [
        {
          "output_type": "display_data",
          "data": {
            "text/plain": [
              "<IPython.core.display.HTML object>"
            ],
            "text/html": [
              "<script>\n",
              "    const sleep = (time) => new Promise((resolve) => setTimeout(resolve, time));\n",
              "    const videoElement = document.createElement('video');\n",
              "    const options = { mimeType: 'video/webm; codecs=vp9' };\n",
              "    const mediaRecorder = new MediaRecorder(window.stream, options);\n",
              "\n",
              "    const recordedChunks = [];\n",
              "\n",
              "    mediaRecorder.ondataavailable = (e) => {\n",
              "      if (e.data.size > 0) {\n",
              "        recordedChunks.push(e.data);\n",
              "      }\n",
              "    };\n",
              "\n",
              "    mediaRecorder.onstop = async (e) => {\n",
              "      const blob = new Blob(recordedChunks, { type: 'video/webm' });\n",
              "      const url = URL.createObjectURL(blob);\n",
              "      const a = document.createElement('a');\n",
              "      a.href = url;\n",
              "      a.download = 'video.mp4';\n",
              "      a.textContent = 'Download video';\n",
              "      a.style = 'display: block; margin-top: 10px;';\n",
              "      document.body.appendChild(a);\n",
              "      await sleep(2000);\n",
              "      a.click();\n",
              "      await sleep(2000);\n",
              "      a.remove();\n",
              "    };\n",
              "\n",
              "    mediaRecorder.start();\n",
              "\n",
              "    return new Promise(resolve => {\n",
              "      window.recordedChunks = recordedChunks;\n",
              "      window.mediaRecorder = mediaRecorder;\n",
              "      resolve('Recording started');\n",
              "    });\n",
              "    </script>"
            ]
          },
          "metadata": {}
        },
        {
          "output_type": "stream",
          "name": "stdout",
          "text": [
            "Recording started...\n"
          ]
        }
      ]
    },
    {
      "source": [
        "from google.colab.output import eval_js"
      ],
      "cell_type": "code",
      "metadata": {
        "id": "6WPyjW6cLozE"
      },
      "execution_count": 5,
      "outputs": []
    },
    {
      "source": [
        "def stop_video_recording():\n",
        "  \"\"\"Stops the video recording.\"\"\"\n",
        "  js = \"\"\"\n",
        "    window.stop();\n",
        "  \"\"\"\n",
        "  eval_js(js)\n",
        "  print(\"Recording stopped.\")"
      ],
      "cell_type": "code",
      "metadata": {
        "id": "GShtWforLrzG"
      },
      "execution_count": 6,
      "outputs": []
    },
    {
      "cell_type": "code",
      "source": [
        "stop_video_recording()"
      ],
      "metadata": {
        "colab": {
          "base_uri": "https://localhost:8080/",
          "height": 34
        },
        "id": "gCl_7rKPL4s8",
        "outputId": "c0cb76c8-6ea8-48be-f17b-e803be078ae3"
      },
      "execution_count": 7,
      "outputs": [
        {
          "output_type": "stream",
          "name": "stdout",
          "text": [
            "Recording stopped.\n"
          ]
        }
      ]
    }
  ]
}